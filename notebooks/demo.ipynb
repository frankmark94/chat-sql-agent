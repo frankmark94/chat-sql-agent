{
 "cells": [
  {
   "cell_type": "markdown",
   "metadata": {
    "id": "chat-sql-demo-title"
   },
   "source": [
    "# 🗣️ Chat with SQL Agent - 5 Minute Demo\n",
    "\n",
    "This notebook demonstrates how to use the Chat with SQL Agent to interact with databases using natural language.\n",
    "\n",
    "## 🚀 Quick Setup (< 2 minutes)\n",
    "\n",
    "1. **Install dependencies**\n",
    "2. **Set up OpenAI API key**\n",
    "3. **Create sample database**\n",
    "4. **Chat with your data!**"
   ]
  },
  {
   "cell_type": "markdown",
   "metadata": {},
   "source": [
    "## Step 1: Install Dependencies"
   ]
  },
  {
   "cell_type": "code",
   "execution_count": null,
   "metadata": {},
   "outputs": [],
   "source": [
    "# Install required packages\n",
    "!pip install -q langchain openai pandas sqlite3 matplotlib seaborn plotly streamlit python-dotenv pydantic"
   ]
  },
  {
   "cell_type": "markdown",
   "metadata": {},
   "source": [
    "## Step 2: Set Up Configuration"
   ]
  },
  {
   "cell_type": "code",
   "execution_count": null,
   "metadata": {},
   "outputs": [],
   "source": [
    "import os\n",
    "from getpass import getpass\n",
    "\n",
    "# Set your OpenAI API key\n",
    "if 'OPENAI_API_KEY' not in os.environ:\n",
    "    os.environ['OPENAI_API_KEY'] = getpass('Enter your OpenAI API key: ')\n",
    "\n",
    "print(\"✅ Configuration set up successfully!\")"
   ]
  },
  {
   "cell_type": "markdown",
   "metadata": {},
   "source": [
    "## Step 3: Create Sample Database"
   ]
  },
  {
   "cell_type": "code",
   "execution_count": null,
   "metadata": {},
   "outputs": [],
   "source": [
    "import sqlite3\n",
    "import pandas as pd\n",
    "import numpy as np\n",
    "from datetime import datetime, timedelta\n",
    "\n",
    "# Create sample e-commerce database\n",
    "conn = sqlite3.connect('demo_ecommerce.db')\n",
    "cursor = conn.cursor()\n",
    "\n",
    "# Create tables\n",
    "cursor.execute('''\n",
    "CREATE TABLE IF NOT EXISTS customers (\n",
    "    customer_id INTEGER PRIMARY KEY,\n",
    "    name TEXT NOT NULL,\n",
    "    email TEXT UNIQUE NOT NULL,\n",
    "    country TEXT,\n",
    "    signup_date DATE\n",
    ")\n",
    "''')\n",
    "\n",
    "cursor.execute('''\n",
    "CREATE TABLE IF NOT EXISTS products (\n",
    "    product_id INTEGER PRIMARY KEY,\n",
    "    name TEXT NOT NULL,\n",
    "    category TEXT,\n",
    "    price REAL,\n",
    "    stock_quantity INTEGER\n",
    ")\n",
    "''')\n",
    "\n",
    "cursor.execute('''\n",
    "CREATE TABLE IF NOT EXISTS orders (\n",
    "    order_id INTEGER PRIMARY KEY,\n",
    "    customer_id INTEGER,\n",
    "    product_id INTEGER,\n",
    "    quantity INTEGER,\n",
    "    order_date DATE,\n",
    "    total_amount REAL,\n",
    "    FOREIGN KEY (customer_id) REFERENCES customers (customer_id),\n",
    "    FOREIGN KEY (product_id) REFERENCES products (product_id)\n",
    ")\n",
    "''')\n",
    "\n",
    "# Generate sample data\n",
    "np.random.seed(42)\n",
    "\n",
    "# Sample customers\n",
    "customers_data = [\n",
    "    (1, 'Alice Johnson', 'alice@email.com', 'USA', '2023-01-15'),\n",
    "    (2, 'Bob Smith', 'bob@email.com', 'Canada', '2023-02-20'),\n",
    "    (3, 'Charlie Brown', 'charlie@email.com', 'UK', '2023-03-10'),\n",
    "    (4, 'Diana Prince', 'diana@email.com', 'Australia', '2023-04-05'),\n",
    "    (5, 'Eve Davis', 'eve@email.com', 'Germany', '2023-05-12')\n",
    "]\n",
    "\n",
    "cursor.executemany('INSERT OR REPLACE INTO customers VALUES (?, ?, ?, ?, ?)', customers_data)\n",
    "\n",
    "# Sample products\n",
    "products_data = [\n",
    "    (1, 'Laptop', 'Electronics', 999.99, 50),\n",
    "    (2, 'Smartphone', 'Electronics', 699.99, 100),\n",
    "    (3, 'Coffee Mug', 'Home & Kitchen', 12.99, 200),\n",
    "    (4, 'Running Shoes', 'Sports', 89.99, 75),\n",
    "    (5, 'Book: Python Programming', 'Books', 29.99, 150),\n",
    "    (6, 'Wireless Headphones', 'Electronics', 149.99, 80)\n",
    "]\n",
    "\n",
    "cursor.executemany('INSERT OR REPLACE INTO products VALUES (?, ?, ?, ?, ?)', products_data)\n",
    "\n",
    "# Sample orders\n",
    "orders_data = []\n",
    "order_id = 1\n",
    "start_date = datetime(2023, 6, 1)\n",
    "\n",
    "for _ in range(50):\n",
    "    customer_id = np.random.randint(1, 6)\n",
    "    product_id = np.random.randint(1, 7)\n",
    "    quantity = np.random.randint(1, 4)\n",
    "    order_date = start_date + timedelta(days=np.random.randint(0, 180))\n",
    "    \n",
    "    # Get product price\n",
    "    cursor.execute('SELECT price FROM products WHERE product_id = ?', (product_id,))\n",
    "    price = cursor.fetchone()[0]\n",
    "    total_amount = price * quantity\n",
    "    \n",
    "    orders_data.append((order_id, customer_id, product_id, quantity, order_date.strftime('%Y-%m-%d'), total_amount))\n",
    "    order_id += 1\n",
    "\n",
    "cursor.executemany('INSERT OR REPLACE INTO orders VALUES (?, ?, ?, ?, ?, ?)', orders_data)\n",
    "\n",
    "conn.commit()\n",
    "conn.close()\n",
    "\n",
    "print(\"✅ Sample database created successfully!\")\n",
    "print(\"📊 Database contains:\")\n",
    "print(\"   • 5 customers\")\n",
    "print(\"   • 6 products\")\n",
    "print(\"   • 50 orders\")"
   ]
  },
  {
   "cell_type": "markdown",
   "metadata": {},
   "source": [
    "## Step 4: Set Up the SQL Agent"
   ]
  },
  {
   "cell_type": "code",
   "execution_count": null,
   "metadata": {},
   "outputs": [],
   "source": [
    "import sys\n",
    "import os\n",
    "\n",
    "# Add the src directory to the path\n",
    "sys.path.append('../src')\n",
    "\n",
    "# Import our modules\n",
    "from agents import create_sql_agent\n",
    "from config import settings\n",
    "\n",
    "# Create the SQL agent\n",
    "database_url = \"sqlite:///demo_ecommerce.db\"\n",
    "agent = create_sql_agent(database_url)\n",
    "\n",
    "print(\"🤖 SQL Agent created successfully!\")\n",
    "print(\"Ready to chat with your database!\")"
   ]
  },
  {
   "cell_type": "markdown",
   "metadata": {},
   "source": [
    "## Step 5: Chat with Your Database! 🗣️\n",
    "\n",
    "Now you can ask natural language questions about your data:"
   ]
  },
  {
   "cell_type": "code",
   "execution_count": null,
   "metadata": {},
   "outputs": [],
   "source": [
    "# Example 1: Basic query\n",
    "response = agent.run(\"How many customers do we have?\")\n",
    "print(\"Question: How many customers do we have?\")\n",
    "print(f\"Answer: {response}\")\n",
    "print(\"\\n\" + \"=\"*50 + \"\\n\")"
   ]
  },
  {
   "cell_type": "code",
   "execution_count": null,
   "metadata": {},
   "outputs": [],
   "source": [
    "# Example 2: Aggregation query\n",
    "response = agent.run(\"What's the total revenue from all orders?\")\n",
    "print(\"Question: What's the total revenue from all orders?\")\n",
    "print(f\"Answer: {response}\")\n",
    "print(\"\\n\" + \"=\"*50 + \"\\n\")"
   ]
  },
  {
   "cell_type": "code",
   "execution_count": null,
   "metadata": {},
   "outputs": [],
   "source": [
    "# Example 3: Complex analysis\n",
    "response = agent.run(\"Which product category generates the most revenue?\")\n",
    "print(\"Question: Which product category generates the most revenue?\")\n",
    "print(f\"Answer: {response}\")\n",
    "print(\"\\n\" + \"=\"*50 + \"\\n\")"
   ]
  },
  {
   "cell_type": "code",
   "execution_count": null,
   "metadata": {},
   "outputs": [],
   "source": [
    "# Example 4: Customer analysis\n",
    "response = agent.run(\"Show me the top 3 customers by total spending\")\n",
    "print(\"Question: Show me the top 3 customers by total spending\")\n",
    "print(f\"Answer: {response}\")\n",
    "print(\"\\n\" + \"=\"*50 + \"\\n\")"
   ]
  },
  {
   "cell_type": "code",
   "execution_count": null,
   "metadata": {},
   "outputs": [],
   "source": [
    "# Example 5: Time-based analysis\n",
    "response = agent.run(\"What was our average order value in the last 30 days?\")\n",
    "print(\"Question: What was our average order value in the last 30 days?\")\n",
    "print(f\"Answer: {response}\")\n",
    "print(\"\\n\" + \"=\"*50 + \"\\n\")"
   ]
  },
  {
   "cell_type": "markdown",
   "metadata": {},
   "source": [
    "## Step 6: Try Your Own Questions! 🎯\n",
    "\n",
    "Use the cell below to ask your own questions:"
   ]
  },
  {
   "cell_type": "code",
   "execution_count": null,
   "metadata": {},
   "outputs": [],
   "source": [
    "# Ask your own question!\n",
    "your_question = \"What are the most popular products by quantity sold?\"\n",
    "\n",
    "response = agent.run(your_question)\n",
    "print(f\"Question: {your_question}\")\n",
    "print(f\"Answer: {response}\")"
   ]
  },
  {
   "cell_type": "markdown",
   "metadata": {},
   "source": [
    "## Step 7: Generate Reports 📊"
   ]
  },
  {
   "cell_type": "code",
   "execution_count": null,
   "metadata": {},
   "outputs": [],
   "source": [
    "# Import reporting functions\n",
    "from reporting import dataframe_to_plot, create_interactive_plot\n",
    "import pandas as pd\n",
    "import sqlite3\n",
    "\n",
    "# Get some data for visualization\n",
    "conn = sqlite3.connect('demo_ecommerce.db')\n",
    "\n",
    "# Revenue by category\n",
    "query = \"\"\"\n",
    "SELECT p.category, SUM(o.total_amount) as revenue\n",
    "FROM orders o\n",
    "JOIN products p ON o.product_id = p.product_id\n",
    "GROUP BY p.category\n",
    "ORDER BY revenue DESC\n",
    "\"\"\"\n",
    "\n",
    "df = pd.read_sql_query(query, conn)\n",
    "conn.close()\n",
    "\n",
    "print(\"📊 Revenue by Category:\")\n",
    "print(df)\n",
    "\n",
    "# Create visualization\n",
    "import matplotlib.pyplot as plt\n",
    "\n",
    "plt.figure(figsize=(10, 6))\n",
    "plt.bar(df['category'], df['revenue'])\n",
    "plt.title('Revenue by Product Category')\n",
    "plt.xlabel('Category')\n",
    "plt.ylabel('Revenue ($)')\n",
    "plt.xticks(rotation=45)\n",
    "plt.tight_layout()\n",
    "plt.show()\n",
    "\n",
    "print(\"\\n✅ Visualization created!\")"
   ]
  },
  {
   "cell_type": "markdown",
   "metadata": {},
   "source": [
    "## 🎉 Congratulations!\n",
    "\n",
    "You've successfully:\n",
    "\n",
    "1. ✅ Set up the Chat with SQL Agent\n",
    "2. ✅ Created a sample database\n",
    "3. ✅ Asked natural language questions\n",
    "4. ✅ Generated visualizations\n",
    "\n",
    "## Next Steps:\n",
    "\n",
    "- **Use with your own database**: Replace the sample database with your real data\n",
    "- **Run the Streamlit app**: Use `streamlit run app/main.py` for a web interface\n",
    "- **Customize the agent**: Modify `src/agents.py` to add custom tools\n",
    "- **Add email reports**: Configure email settings in `.env` to send reports\n",
    "\n",
    "## Try These Advanced Questions:\n",
    "\n",
    "- \"Create a monthly sales trend analysis\"\n",
    "- \"Which customers haven't made a purchase in the last 60 days?\"\n",
    "- \"What's the correlation between product price and sales volume?\"\n",
    "- \"Generate a customer segmentation analysis\"\n",
    "\n",
    "Happy querying! 🚀"
   ]
  }
 ],
 "metadata": {
  "kernelspec": {
   "display_name": "Python 3",
   "language": "python",
   "name": "python3"
  },
  "language_info": {
   "codemirror_mode": {
    "name": "ipython",
    "version": 3
   },
   "file_extension": ".py",
   "mimetype": "text/x-python",
   "name": "python",
   "nbconvert_exporter": "python",
   "pygments_lexer": "ipython3",
   "version": "3.8.10"
  },
  "colab": {
   "provenance": [],
   "toc_visible": true
  }
 },
 "nbformat": 4,
 "nbformat_minor": 0
}